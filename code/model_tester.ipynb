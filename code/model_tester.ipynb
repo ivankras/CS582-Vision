{
 "cells": [
  {
   "cell_type": "code",
   "execution_count": null,
   "source": [
    "from model import StyleTransfer\n",
    "\n",
    "# TODO: tweak parameters for different results\n",
    "style_transfer_class = StyleTransfer(StyleTransfer(\n",
    "    base_image_url='https://i.imgur.com/FPHjb7s.jpg',\n",
    "    style_image_url='https://i.imgur.com/y9dH2bJ.jpeg'\n",
    "))"
   ],
   "outputs": [],
   "metadata": {}
  },
  {
   "cell_type": "code",
   "execution_count": null,
   "source": [
    "# TODO: tweak parameters for different results\n",
    "style_transfer_class.setupModel()"
   ],
   "outputs": [],
   "metadata": {}
  },
  {
   "cell_type": "code",
   "execution_count": null,
   "source": [
    "# TODO: tweak parameters for different results\n",
    "style_transfer_class.train()"
   ],
   "outputs": [],
   "metadata": {}
  },
  {
   "cell_type": "code",
   "execution_count": null,
   "source": [
    "style_transfer_class.printResult(resultAt=100)\n",
    "style_transfer_class.printResult(resultAt=1000)\n",
    "style_transfer_class.printResult(resultAt=2200)\n",
    "style_transfer_class.printResult(resultAt=4000)"
   ],
   "outputs": [],
   "metadata": {}
  }
 ],
 "metadata": {
  "orig_nbformat": 4,
  "language_info": {
   "name": "python",
   "version": "3.8.10",
   "mimetype": "text/x-python",
   "codemirror_mode": {
    "name": "ipython",
    "version": 3
   },
   "pygments_lexer": "ipython3",
   "nbconvert_exporter": "python",
   "file_extension": ".py"
  },
  "kernelspec": {
   "name": "python3",
   "display_name": "Python 3.8.10 64-bit ('venv': venv)"
  },
  "interpreter": {
   "hash": "9dd8c6e371d85d50c30d5095861d1f104a0a6cd5751b497cff8b09dc65747318"
  }
 },
 "nbformat": 4,
 "nbformat_minor": 2
}